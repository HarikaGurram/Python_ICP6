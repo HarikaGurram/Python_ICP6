{
 "cells": [
  {
   "cell_type": "markdown",
   "metadata": {},
   "source": [
    "<font size = \"5\" ><b>Importing Libraries</b></font>"
   ]
  },
  {
   "cell_type": "code",
   "execution_count": 7,
   "metadata": {},
   "outputs": [],
   "source": [
    "from sklearn.cluster import KMeans \n",
    "from sklearn import metrics \n",
    "import pandas as pd\n",
    "import numpy as np \n",
    "import matplotlib.pyplot as plt"
   ]
  },
  {
   "cell_type": "markdown",
   "metadata": {},
   "source": [
    "<font size = \"5\" ><b>Reading dataset and replacing null values with mean</b></font>"
   ]
  },
  {
   "cell_type": "code",
   "execution_count": 10,
   "metadata": {
    "scrolled": true
   },
   "outputs": [],
   "source": [
    "data = pd.read_csv(\"C:\\\\Users\\\\harik\\\\.ipynb_checkpoints\\\\CC.csv\")\n",
    "X=data.iloc[:,1:]\n",
    "X = X.apply(lambda x: x.fillna(x.mean()),axis=0)"
   ]
  },
  {
   "cell_type": "markdown",
   "metadata": {},
   "source": [
    "<font size = \"5\" ><b>Applying Elbow method to determine K value</b></font>"
   ]
  },
  {
   "cell_type": "code",
   "execution_count": 11,
   "metadata": {},
   "outputs": [
    {
     "data": {
      "image/png": "[encoded data removed]",
      "text/plain": [
       "<Figure size 432x288 with 1 Axes>"
      ]
     },
     "metadata": {
      "needs_background": "light"
     },
     "output_type": "display_data"
    }
   ],
   "source": [
    "inertias = []\n",
    "K = range(1,10)\n",
    "for k in K: \n",
    "    kmeanModel = KMeans(n_clusters=k,random_state=42) \n",
    "    kmeanModel.fit(X) \n",
    "    inertias.append(kmeanModel.inertia_)\n",
    "    \n",
    "plt.plot(range(1,10),inertias,'bx-')\n",
    "plt.title('Elbow method')\n",
    "plt.xlabel('Number of Clusters')\n",
    "plt.ylabel('Kmeans score')\n",
    "plt.show()"
   ]
  },
  {
   "cell_type": "markdown",
   "metadata": {},
   "source": [
    "<font size = \"5\" ><b>Applying KMeans Clustering without scaling</b></font>\n"
   ]
  },
  {
   "cell_type": "code",
   "execution_count": 12,
   "metadata": {},
   "outputs": [],
   "source": [
    "nclusters = 3\n",
    "km = KMeans(n_clusters=nclusters)\n",
    "km.fit(X)\n",
    "y_cluster_kmeans = km.predict(X)"
   ]
  },
  {
   "cell_type": "markdown",
   "metadata": {},
   "source": [
    "<font size = \"5\" ><b>Calculating Silhouette score</b></font>\n"
   ]
  },
  {
   "cell_type": "code",
   "execution_count": 13,
   "metadata": {},
   "outputs": [
    {
     "name": "stdout",
     "output_type": "stream",
     "text": [
      "score before scaling is: 0.4676551448676236\n"
     ]
    }
   ],
   "source": [
    "score_beforescaling = metrics.silhouette_score(X, y_cluster_kmeans)\n",
    "print(\"score before scaling is:\",score_beforescaling)"
   ]
  },
  {
   "cell_type": "markdown",
   "metadata": {},
   "source": [
    "<font size = \"5\" ><b>Applying feature scaling</b></font>"
   ]
  },
  {
   "cell_type": "code",
   "execution_count": 14,
   "metadata": {},
   "outputs": [],
   "source": [
    "from sklearn import preprocessing \n",
    "scaler =preprocessing.StandardScaler()\n",
    "scaler.fit(X)\n",
    "X_scaled_array=scaler.transform(X) \n",
    "X_scaled=pd.DataFrame(X_scaled_array)"
   ]
  },
  {
   "cell_type": "markdown",
   "metadata": {},
   "source": [
    "<font size = \"5\" ><b>Applying KMeans after scaling</b></font>"
   ]
  },
  {
   "cell_type": "code",
   "execution_count": 15,
   "metadata": {},
   "outputs": [],
   "source": [
    "nclusters = 3\n",
    "km = KMeans(n_clusters=nclusters,random_state=42)\n",
    "km.fit(X_scaled)\n",
    "y_cluster_kmeans = km.predict(X_scaled)"
   ]
  },
  {
   "cell_type": "markdown",
   "metadata": {},
   "source": [
    "<font size = \"5\" ><b>Calculating Silhouette score after scaling</b></font>"
   ]
  },
  {
   "cell_type": "code",
   "execution_count": 16,
   "metadata": {},
   "outputs": [
    {
     "name": "stdout",
     "output_type": "stream",
     "text": [
      "score after scaling is: 0.25059934300557285\n"
     ]
    }
   ],
   "source": [
    "score_afterscaling = metrics.silhouette_score(X_scaled, y_cluster_kmeans)\n",
    "print(\"score after scaling is:\",score_afterscaling)"
   ]
  },
  {
   "cell_type": "markdown",
   "metadata": {},
   "source": [
    "<font size = \"5\"> <b> Applying PCA</b></font>"
   ]
  },
  {
   "cell_type": "code",
   "execution_count": 17,
   "metadata": {},
   "outputs": [],
   "source": [
    "from sklearn.decomposition import PCA\n",
    "pca= PCA(2) \n",
    "X_pca= pca.fit_transform(X)\n",
    "X_pca=pd.DataFrame(X_pca)\n",
    "finaldata = pd.concat([X_pca, data[['TENURE']]], axis=1)"
   ]
  },
  {
   "cell_type": "markdown",
   "metadata": {},
   "source": [
    "<font size = \"5\"> <b> Applying KMeans after PCA</b></font>"
   ]
  },
  {
   "cell_type": "code",
   "execution_count": 21,
   "metadata": {},
   "outputs": [
    {
     "name": "stdout",
     "output_type": "stream",
     "text": [
      "Score with PCA and Kmeans:  0.5720003152910857\n"
     ]
    }
   ],
   "source": [
    "nclusters = 3\n",
    "km = KMeans(n_clusters=nclusters)\n",
    "km.fit(X_pca)\n",
    "# predict the cluster for each data point\n",
    "y_cluster_kmeans = km.predict(X_pca)\n",
    "score_pca = metrics.silhouette_score(X_pca, y_cluster_kmeans)\n",
    "print(\"Score with PCA and Kmeans: \", score_pca)"
   ]
  },
  {
   "cell_type": "markdown",
   "metadata": {},
   "source": [
    "<font size = \"5\"> <b> KMeans model after applying PCA on scaled data</b></font>"
   ]
  },
  {
   "cell_type": "code",
   "execution_count": 22,
   "metadata": {},
   "outputs": [],
   "source": [
    "pca_scaled = PCA(2)\n",
    "X_pca_scaled= pca_scaled.fit_transform(X_scaled)\n",
    "kmeans_pca_scaled = KMeans(n_clusters=3)\n",
    "kmeans_pca_scaled.fit(X_pca_scaled)\n",
    "y_pca_kmeans_scaled = kmeans_pca_scaled.predict(X_pca_scaled)"
   ]
  },
  {
   "cell_type": "markdown",
   "metadata": {},
   "source": [
    "<font size = \"5\"> <b> Calculating Silhouette score of applying PCA on scaled data</b></font>"
   ]
  },
  {
   "cell_type": "code",
   "execution_count": 23,
   "metadata": {},
   "outputs": [
    {
     "name": "stdout",
     "output_type": "stream",
     "text": [
      "Score with PCA and Kmeans:  0.4523679100325588\n"
     ]
    }
   ],
   "source": [
    "pca_scaled_score = metrics.silhouette_score(X_pca_scaled, y_pca_kmeans_scaled)\n",
    "print(\"Score with PCA and Kmeans: \", pca_scaled_score )"
   ]
  },
  {
   "cell_type": "markdown",
   "metadata": {},
   "source": [
    "<font size = \"5\"> <b> Score comparisons </b></font>"
   ]
  },
  {
   "cell_type": "code",
   "execution_count": 25,
   "metadata": {},
   "outputs": [
    {
     "name": "stdout",
     "output_type": "stream",
     "text": [
      "score before scaling is: 0.4676551448676236\n",
      "score after scaling is: 0.25059934300557285\n",
      "Score with PCA and Kmeans:  0.5720003152910857\n",
      "Score with Scalar, PCA and Kmeans:  0.4523679100325588\n"
     ]
    }
   ],
   "source": [
    "print(\"score before scaling is:\",score_beforescaling)\n",
    "print(\"score after scaling is:\",score_afterscaling)\n",
    "print(\"Score with PCA and Kmeans: \", score_pca)\n",
    "print(\"Score with Scalar, PCA and Kmeans: \", pca_scaled_score )"
   ]
  },
  {
   "cell_type": "markdown",
   "metadata": {},
   "source": [
    "<font size = \"5\"> <b> Plotting clusters </b></font>"
   ]
  },
  {
   "cell_type": "code",
   "execution_count": 26,
   "metadata": {},
   "outputs": [
    {
     "data": {
      "image/png": "[encoded data removed]",
      "text/plain": [
       "<Figure size 432x288 with 1 Axes>"
      ]
     },
     "metadata": {
      "needs_background": "light"
     },
     "output_type": "display_data"
    }
   ],
   "source": [
    "colors=[\"red\",\"green\",\"blue\"]\n",
    "for i in range(3):\n",
    "    x_axis=X_pca_scaled[y_pca_kmeans_scaled == i][:, 0]\n",
    "    y_axis=X_pca_scaled[y_pca_kmeans_scaled == i][:,1]\n",
    "    plt.scatter(x_axis,y_axis,color=colors[i])"
   ]
  },
  {
   "cell_type": "code",
   "execution_count": null,
   "metadata": {},
   "outputs": [],
   "source": []
  }
 ],
 "metadata": {
  "kernelspec": {
   "display_name": "Python 3",
   "language": "python",
   "name": "python3"
  },
  "language_info": {
   "codemirror_mode": {
    "name": "ipython",
    "version": 3
   },
   "file_extension": ".py",
   "mimetype": "text/x-python",
   "name": "python",
   "nbconvert_exporter": "python",
   "pygments_lexer": "ipython3",
   "version": "3.7.6"
  }
 },
 "nbformat": 4,
 "nbformat_minor": 4
}
